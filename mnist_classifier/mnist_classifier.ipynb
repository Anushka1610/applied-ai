{
  "nbformat": 4,
  "nbformat_minor": 0,
  "metadata": {
    "colab": {
      "name": "MNIST Classification, Feedforward NN.ipynb",
      "version": "0.3.2",
      "provenance": [],
      "collapsed_sections": []
    },
    "kernelspec": {
      "name": "python3",
      "display_name": "Python 3"
    },
    "accelerator": "GPU"
  },
  "cells": [
    {
      "metadata": {
        "id": "UmkfpEG3HrFj",
        "colab_type": "text"
      },
      "cell_type": "markdown",
      "source": [
        "## Importing Modules\n"
      ]
    },
    {
      "metadata": {
        "id": "VTdWn3nFcNqI",
        "colab_type": "code",
        "outputId": "b10636a3-535d-41e9-f428-42b30886e134",
        "colab": {
          "base_uri": "https://localhost:8080/",
          "height": 34
        }
      },
      "cell_type": "code",
      "source": [
        "from keras.datasets import mnist\n",
        "import matplotlib.pyplot as plt\n",
        "import numpy\n",
        "from keras.models import Sequential\n",
        "from keras.layers import Dense\n",
        "from keras.layers import Dropout\n",
        "from keras.utils import np_utils\n",
        "\n",
        "seed = 7\n",
        "numpy.random.seed(seed)\n"
      ],
      "execution_count": 0,
      "outputs": [
        {
          "output_type": "stream",
          "text": [
            "Using TensorFlow backend.\n"
          ],
          "name": "stderr"
        }
      ]
    },
    {
      "metadata": {
        "id": "NGjG5zDqIUmh",
        "colab_type": "text"
      },
      "cell_type": "markdown",
      "source": [
        "### Bring in Data, check the data"
      ]
    },
    {
      "metadata": {
        "id": "craQklaoJ4jl",
        "colab_type": "code",
        "outputId": "3f30b912-ce22-4f33-eb9c-48750175832a",
        "colab": {
          "base_uri": "https://localhost:8080/",
          "height": 51
        }
      },
      "cell_type": "code",
      "source": [
        "(X_train, Y_train), (X_test, Y_test) = mnist.load_data()\n"
      ],
      "execution_count": 0,
      "outputs": [
        {
          "output_type": "stream",
          "text": [
            "Downloading data from https://s3.amazonaws.com/img-datasets/mnist.npz\n",
            "11493376/11490434 [==============================] - 9s 1us/step\n"
          ],
          "name": "stdout"
        }
      ]
    },
    {
      "metadata": {
        "id": "OLjq1p0zIS9d",
        "colab_type": "code",
        "outputId": "86d869cb-03b8-404c-9030-b6f694ba6bb8",
        "colab": {
          "base_uri": "https://localhost:8080/",
          "height": 364
        }
      },
      "cell_type": "code",
      "source": [
        "\n",
        "\n",
        "plt.imshow(X_train[20000], cmap=plt.get_cmap('gray'))\n",
        "plt.show()\n",
        "print(Y_train[20000])\n",
        "\n",
        "\n",
        "\n"
      ],
      "execution_count": 0,
      "outputs": [
        {
          "output_type": "display_data",
          "data": {
            "image/png": "[encoded data removed]",
            "text/plain": [
              "<matplotlib.figure.Figure at 0x7f000701a630>"
            ]
          },
          "metadata": {
            "tags": []
          }
        },
        {
          "output_type": "stream",
          "text": [
            "5\n"
          ],
          "name": "stdout"
        }
      ]
    },
    {
      "metadata": {
        "id": "urZCw1lhbKTv",
        "colab_type": "text"
      },
      "cell_type": "markdown",
      "source": [
        "## Perform required preprocessing, and make it ready for machine learning algorithim."
      ]
    },
    {
      "metadata": {
        "id": "fmmHicDjML9D",
        "colab_type": "code",
        "colab": {}
      },
      "cell_type": "code",
      "source": [
        "num_of_pixels = X_train.shape[1] * X_train.shape[2]\n",
        "X_train = X_train.reshape(X_train.shape[0], num_of_pixels).astype('float32')\n",
        "X_test = X_test.reshape(X_test.shape[0], num_of_pixels).astype('float32')\n",
        "X_train = X_train / 255\n",
        "X_test = X_test / 255\n",
        "\n",
        "\n"
      ],
      "execution_count": 0,
      "outputs": []
    },
    {
      "metadata": {
        "id": "nlAPyfKANwY6",
        "colab_type": "code",
        "colab": {}
      },
      "cell_type": "code",
      "source": [
        "Y_train = np_utils.to_categorical(Y_train)\n",
        "Y_test = np_utils.to_categorical(Y_test)\n",
        "num_classes = Y_test.shape[1]\n",
        "\n",
        "\n"
      ],
      "execution_count": 0,
      "outputs": []
    },
    {
      "metadata": {
        "id": "Dh33teIwaj8D",
        "colab_type": "text"
      },
      "cell_type": "markdown",
      "source": [
        "## Create the network "
      ]
    },
    {
      "metadata": {
        "id": "v3mt6u-3UlbO",
        "colab_type": "code",
        "colab": {}
      },
      "cell_type": "code",
      "source": [
        "\n",
        "my_model = Sequential()\n",
        "my_model.add(Dense(10, input_dim=num_of_pixels, activation='relu'))\n",
        "my_model.add(Dense(num_classes, activation='softmax'))\n"
      ],
      "execution_count": 0,
      "outputs": []
    },
    {
      "metadata": {
        "id": "84GKgMdVbmHI",
        "colab_type": "text"
      },
      "cell_type": "markdown",
      "source": [
        "## Configure and compile the network"
      ]
    },
    {
      "metadata": {
        "id": "VzpkHT3-bwQl",
        "colab_type": "code",
        "colab": {}
      },
      "cell_type": "code",
      "source": [
        "my_model.compile(loss='categorical_crossentropy', optimizer='adam', metrics=['accuracy'])\n",
        "\n"
      ],
      "execution_count": 0,
      "outputs": []
    },
    {
      "metadata": {
        "id": "ad-pqAStbyvO",
        "colab_type": "text"
      },
      "cell_type": "markdown",
      "source": [
        "## Train the network"
      ]
    },
    {
      "metadata": {
        "id": "SDJjMCuqb7KF",
        "colab_type": "code",
        "outputId": "69e1b4a2-c77b-44c6-d5c4-2c0fa0363629",
        "colab": {
          "base_uri": "https://localhost:8080/",
          "height": 374
        }
      },
      "cell_type": "code",
      "source": [
        "my_model.fit(X_train, Y_train, epochs=10, batch_size=100, verbose=2)\n",
        "\n",
        "\n"
      ],
      "execution_count": 0,
      "outputs": [
        {
          "output_type": "stream",
          "text": [
            "Epoch 1/10\n",
            " - 3s - loss: 0.6698 - acc: 0.8160\n",
            "Epoch 2/10\n",
            " - 3s - loss: 0.3255 - acc: 0.9080\n",
            "Epoch 3/10\n",
            " - 3s - loss: 0.2909 - acc: 0.9192\n",
            "Epoch 4/10\n",
            " - 3s - loss: 0.2736 - acc: 0.9235\n",
            "Epoch 5/10\n",
            " - 3s - loss: 0.2619 - acc: 0.9270\n",
            "Epoch 6/10\n",
            " - 3s - loss: 0.2542 - acc: 0.9296\n",
            "Epoch 7/10\n",
            " - 3s - loss: 0.2475 - acc: 0.9315\n",
            "Epoch 8/10\n",
            " - 3s - loss: 0.2415 - acc: 0.9328\n",
            "Epoch 9/10\n",
            " - 3s - loss: 0.2362 - acc: 0.9345\n",
            "Epoch 10/10\n",
            " - 3s - loss: 0.2327 - acc: 0.9347\n"
          ],
          "name": "stdout"
        },
        {
          "output_type": "execute_result",
          "data": {
            "text/plain": [
              "<keras.callbacks.History at 0x7effe4284710>"
            ]
          },
          "metadata": {
            "tags": []
          },
          "execution_count": 19
        }
      ]
    },
    {
      "metadata": {
        "id": "SVKRlz8jb_fV",
        "colab_type": "text"
      },
      "cell_type": "markdown",
      "source": [
        "## Evaluate the performance (test your hypothesis)"
      ]
    },
    {
      "metadata": {
        "id": "wfgxBjMGb9eQ",
        "colab_type": "code",
        "outputId": "552741f7-9191-4beb-b03f-3e3ddad68483",
        "colab": {
          "base_uri": "https://localhost:8080/",
          "height": 34
        }
      },
      "cell_type": "code",
      "source": [
        "scores = my_model.evaluate(X_test, Y_test, verbose=0)\n",
        "print(\"Error: %.2f%%\" % (100-scores[1]*100))"
      ],
      "execution_count": 0,
      "outputs": [
        {
          "output_type": "stream",
          "text": [
            "Error: 6.92%\n"
          ],
          "name": "stdout"
        }
      ]
    },
    {
      "metadata": {
        "id": "AvbiZ1uibj0p",
        "colab_type": "text"
      },
      "cell_type": "markdown",
      "source": [
        ""
      ]
    }
  ]
}